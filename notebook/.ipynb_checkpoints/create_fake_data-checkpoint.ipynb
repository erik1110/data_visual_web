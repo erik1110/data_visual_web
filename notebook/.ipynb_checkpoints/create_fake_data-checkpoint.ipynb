{
 "cells": [
  {
   "cell_type": "code",
   "execution_count": 1,
   "metadata": {},
   "outputs": [
    {
     "data": {
      "text/plain": [
       "'9943 Russell Overpass\\nJohnfort, OR 77097'"
      ]
     },
     "execution_count": 1,
     "metadata": {},
     "output_type": "execute_result"
    }
   ],
   "source": [
    "from faker import Faker\n",
    "\n",
    "fake = Faker()\n",
    "\n",
    "fake.name()\n",
    "# Carla Parker\n",
    "\n",
    "fake.address()"
   ]
  },
  {
   "cell_type": "code",
   "execution_count": 2,
   "metadata": {},
   "outputs": [
    {
     "name": "stdout",
     "output_type": "stream",
     "text": [
      "萬家豪\n",
      "90047 豐原大安街5號之5\n",
      "--------\n",
      "王淑慧\n",
      "539 臺東市文山巷808號之1\n",
      "--------\n",
      "秦雅琪\n",
      "775 豐原廣慈巷9段2號9樓\n",
      "--------\n",
      "斯怡婷\n",
      "294 中壢市大同路7段7號5樓\n",
      "--------\n",
      "陸建宏\n",
      "660 永康勝利路28號之9\n",
      "--------\n"
     ]
    }
   ],
   "source": [
    "fake = Faker('zh_TW')\n",
    "\n",
    "for _ in range(5):\n",
    "    print(fake.name())\n",
    "    print(fake.address())\n",
    "    print('--------')\n"
   ]
  },
  {
   "cell_type": "code",
   "execution_count": 3,
   "metadata": {},
   "outputs": [],
   "source": [
    "import pandas as pd"
   ]
  },
  {
   "cell_type": "code",
   "execution_count": 4,
   "metadata": {},
   "outputs": [
    {
     "data": {
      "text/plain": [
       "{'username': 'yang09',\n",
       " 'name': '潘雅萍',\n",
       " 'sex': 'M',\n",
       " 'address': '16213 橫山縣林森巷5號之9',\n",
       " 'mail': 'jietang@hotmail.com',\n",
       " 'birthdate': datetime.date(1969, 9, 16)}"
      ]
     },
     "execution_count": 4,
     "metadata": {},
     "output_type": "execute_result"
    }
   ],
   "source": [
    "fake.simple_profile()"
   ]
  },
  {
   "cell_type": "code",
   "execution_count": 5,
   "metadata": {},
   "outputs": [],
   "source": [
    "df = pd.DataFrame()"
   ]
  },
  {
   "cell_type": "code",
   "execution_count": 6,
   "metadata": {},
   "outputs": [],
   "source": [
    "for i in range(1000):\n",
    "    fake_data = fake.simple_profile()\n",
    "    df.loc[i, 'user_id'] = fake.ssn()\n",
    "    df.loc[i, 'username'] = fake_data['username']\n",
    "    df.loc[i, 'name'] = fake_data['name']\n",
    "    df.loc[i, 'sex'] = fake_data['sex']\n",
    "    df.loc[i, 'address'] = fake_data['address']\n",
    "    df.loc[i, 'mail'] = fake_data['mail']\n",
    "    df.loc[i, 'birthdate'] = fake_data['birthdate']\n",
    "    df.loc[i, 'country'] = fake.country()\n",
    "    df.loc[i, 'job'] = fake.job()\n",
    "    df.loc[i, 'phone_number'] = fake.phone_number()\n",
    "    df.loc[i, 'date'] = fake.date()"
   ]
  },
  {
   "cell_type": "code",
   "execution_count": 7,
   "metadata": {},
   "outputs": [
    {
     "data": {
      "text/html": [
       "<div>\n",
       "<style scoped>\n",
       "    .dataframe tbody tr th:only-of-type {\n",
       "        vertical-align: middle;\n",
       "    }\n",
       "\n",
       "    .dataframe tbody tr th {\n",
       "        vertical-align: top;\n",
       "    }\n",
       "\n",
       "    .dataframe thead th {\n",
       "        text-align: right;\n",
       "    }\n",
       "</style>\n",
       "<table border=\"1\" class=\"dataframe\">\n",
       "  <thead>\n",
       "    <tr style=\"text-align: right;\">\n",
       "      <th></th>\n",
       "      <th>user_id</th>\n",
       "      <th>username</th>\n",
       "      <th>name</th>\n",
       "      <th>sex</th>\n",
       "      <th>address</th>\n",
       "      <th>mail</th>\n",
       "      <th>birthdate</th>\n",
       "      <th>country</th>\n",
       "      <th>job</th>\n",
       "      <th>phone_number</th>\n",
       "      <th>date</th>\n",
       "    </tr>\n",
       "  </thead>\n",
       "  <tbody>\n",
       "    <tr>\n",
       "      <th>0</th>\n",
       "      <td>K098760549</td>\n",
       "      <td>mayan</td>\n",
       "      <td>陳懿</td>\n",
       "      <td>M</td>\n",
       "      <td>22418 新竹大同巷456號之3</td>\n",
       "      <td>qiangwu@gmail.com</td>\n",
       "      <td>1945-10-20</td>\n",
       "      <td>蘇丹</td>\n",
       "      <td>金融交易員</td>\n",
       "      <td>0945-435533</td>\n",
       "      <td>1971-06-20</td>\n",
       "    </tr>\n",
       "    <tr>\n",
       "      <th>1</th>\n",
       "      <td>U083288742</td>\n",
       "      <td>pingxu</td>\n",
       "      <td>金家豪</td>\n",
       "      <td>F</td>\n",
       "      <td>49336 板橋市景美巷326號之0</td>\n",
       "      <td>min34@hotmail.com</td>\n",
       "      <td>1946-08-25</td>\n",
       "      <td>馬爾他</td>\n",
       "      <td>法律專業人員</td>\n",
       "      <td>0974-773112</td>\n",
       "      <td>1995-09-29</td>\n",
       "    </tr>\n",
       "    <tr>\n",
       "      <th>2</th>\n",
       "      <td>P318777871</td>\n",
       "      <td>wangjun</td>\n",
       "      <td>徐雅涵</td>\n",
       "      <td>F</td>\n",
       "      <td>21107 桃園市頂福州街716號5樓</td>\n",
       "      <td>juan74@gmail.com</td>\n",
       "      <td>1935-09-19</td>\n",
       "      <td>香港</td>\n",
       "      <td>產品事業處主管</td>\n",
       "      <td>02-45886270</td>\n",
       "      <td>1992-06-01</td>\n",
       "    </tr>\n",
       "    <tr>\n",
       "      <th>3</th>\n",
       "      <td>H179387104</td>\n",
       "      <td>min81</td>\n",
       "      <td>唐庭瑋</td>\n",
       "      <td>M</td>\n",
       "      <td>68856 嘉義市中央巷3段4號之4</td>\n",
       "      <td>pengmin@gmail.com</td>\n",
       "      <td>1968-10-24</td>\n",
       "      <td>香港</td>\n",
       "      <td>醫院行政管理人員</td>\n",
       "      <td>(07) 29891346</td>\n",
       "      <td>1996-09-05</td>\n",
       "    </tr>\n",
       "    <tr>\n",
       "      <th>4</th>\n",
       "      <td>M796141729</td>\n",
       "      <td>taoshi</td>\n",
       "      <td>鄧俊賢</td>\n",
       "      <td>M</td>\n",
       "      <td>324 台東市新生路17號3樓</td>\n",
       "      <td>li15@hotmail.com</td>\n",
       "      <td>1919-12-09</td>\n",
       "      <td>塞內加爾</td>\n",
       "      <td>CAD／CAM工程師</td>\n",
       "      <td>(09) 33690171</td>\n",
       "      <td>2014-01-27</td>\n",
       "    </tr>\n",
       "    <tr>\n",
       "      <th>5</th>\n",
       "      <td>E733166951</td>\n",
       "      <td>wenjing</td>\n",
       "      <td>劉慧君</td>\n",
       "      <td>M</td>\n",
       "      <td>714 豐原縣中華路5號7樓</td>\n",
       "      <td>guiyingbai@gmail.com</td>\n",
       "      <td>1990-05-29</td>\n",
       "      <td>剛果</td>\n",
       "      <td>類廚師</td>\n",
       "      <td>07-3814721</td>\n",
       "      <td>1985-04-08</td>\n",
       "    </tr>\n",
       "    <tr>\n",
       "      <th>6</th>\n",
       "      <td>D379572438</td>\n",
       "      <td>fang09</td>\n",
       "      <td>寧羽</td>\n",
       "      <td>M</td>\n",
       "      <td>625 南投縣新生巷4段4號0樓</td>\n",
       "      <td>juan37@gmail.com</td>\n",
       "      <td>2015-06-24</td>\n",
       "      <td>波希尼亞及赫塞哥維那</td>\n",
       "      <td>環境工程師</td>\n",
       "      <td>084 56061977</td>\n",
       "      <td>1978-10-30</td>\n",
       "    </tr>\n",
       "    <tr>\n",
       "      <th>7</th>\n",
       "      <td>J572493592</td>\n",
       "      <td>hren</td>\n",
       "      <td>陳淑慧</td>\n",
       "      <td>F</td>\n",
       "      <td>211 嘉義中山路654號7樓</td>\n",
       "      <td>wei67@hotmail.com</td>\n",
       "      <td>1993-09-21</td>\n",
       "      <td>剛果共和國</td>\n",
       "      <td>珠心算老師</td>\n",
       "      <td>08-63661115</td>\n",
       "      <td>1983-04-17</td>\n",
       "    </tr>\n",
       "    <tr>\n",
       "      <th>8</th>\n",
       "      <td>J675611883</td>\n",
       "      <td>afang</td>\n",
       "      <td>彭惠如</td>\n",
       "      <td>M</td>\n",
       "      <td>301 大里縣正義巷985號3樓</td>\n",
       "      <td>lyin@gmail.com</td>\n",
       "      <td>1919-01-15</td>\n",
       "      <td>烏拉圭</td>\n",
       "      <td>食品衛生管理師</td>\n",
       "      <td>0976-126432</td>\n",
       "      <td>2014-01-07</td>\n",
       "    </tr>\n",
       "    <tr>\n",
       "      <th>9</th>\n",
       "      <td>U403559613</td>\n",
       "      <td>lipan</td>\n",
       "      <td>陳怡君</td>\n",
       "      <td>M</td>\n",
       "      <td>70968 北港市自強街4段4號6樓</td>\n",
       "      <td>chengchao@gmail.com</td>\n",
       "      <td>1975-06-08</td>\n",
       "      <td>哥倫比亞</td>\n",
       "      <td>電機設備裝配員</td>\n",
       "      <td>05-2324559</td>\n",
       "      <td>1980-03-28</td>\n",
       "    </tr>\n",
       "  </tbody>\n",
       "</table>\n",
       "</div>"
      ],
      "text/plain": [
       "      user_id username name sex              address                  mail  \\\n",
       "0  K098760549    mayan   陳懿   M    22418 新竹大同巷456號之3     qiangwu@gmail.com   \n",
       "1  U083288742   pingxu  金家豪   F   49336 板橋市景美巷326號之0     min34@hotmail.com   \n",
       "2  P318777871  wangjun  徐雅涵   F  21107 桃園市頂福州街716號5樓      juan74@gmail.com   \n",
       "3  H179387104    min81  唐庭瑋   M   68856 嘉義市中央巷3段4號之4     pengmin@gmail.com   \n",
       "4  M796141729   taoshi  鄧俊賢   M      324 台東市新生路17號3樓      li15@hotmail.com   \n",
       "5  E733166951  wenjing  劉慧君   M       714 豐原縣中華路5號7樓  guiyingbai@gmail.com   \n",
       "6  D379572438   fang09   寧羽   M     625 南投縣新生巷4段4號0樓      juan37@gmail.com   \n",
       "7  J572493592     hren  陳淑慧   F      211 嘉義中山路654號7樓     wei67@hotmail.com   \n",
       "8  J675611883    afang  彭惠如   M     301 大里縣正義巷985號3樓        lyin@gmail.com   \n",
       "9  U403559613    lipan  陳怡君   M   70968 北港市自強街4段4號6樓   chengchao@gmail.com   \n",
       "\n",
       "    birthdate     country         job   phone_number        date  \n",
       "0  1945-10-20          蘇丹       金融交易員    0945-435533  1971-06-20  \n",
       "1  1946-08-25         馬爾他      法律專業人員    0974-773112  1995-09-29  \n",
       "2  1935-09-19          香港     產品事業處主管    02-45886270  1992-06-01  \n",
       "3  1968-10-24          香港    醫院行政管理人員  (07) 29891346  1996-09-05  \n",
       "4  1919-12-09        塞內加爾  CAD／CAM工程師  (09) 33690171  2014-01-27  \n",
       "5  1990-05-29          剛果         類廚師     07-3814721  1985-04-08  \n",
       "6  2015-06-24  波希尼亞及赫塞哥維那       環境工程師   084 56061977  1978-10-30  \n",
       "7  1993-09-21       剛果共和國       珠心算老師    08-63661115  1983-04-17  \n",
       "8  1919-01-15         烏拉圭     食品衛生管理師    0976-126432  2014-01-07  \n",
       "9  1975-06-08        哥倫比亞     電機設備裝配員     05-2324559  1980-03-28  "
      ]
     },
     "execution_count": 7,
     "metadata": {},
     "output_type": "execute_result"
    }
   ],
   "source": [
    "df.head(10)"
   ]
  },
  {
   "cell_type": "code",
   "execution_count": 8,
   "metadata": {},
   "outputs": [],
   "source": [
    "df.to_excel('fake_data.xlsx')"
   ]
  },
  {
   "cell_type": "code",
   "execution_count": null,
   "metadata": {},
   "outputs": [],
   "source": []
  },
  {
   "cell_type": "code",
   "execution_count": null,
   "metadata": {},
   "outputs": [],
   "source": []
  },
  {
   "cell_type": "code",
   "execution_count": null,
   "metadata": {},
   "outputs": [],
   "source": []
  },
  {
   "cell_type": "code",
   "execution_count": null,
   "metadata": {},
   "outputs": [],
   "source": []
  },
  {
   "cell_type": "code",
   "execution_count": null,
   "metadata": {},
   "outputs": [],
   "source": []
  }
 ],
 "metadata": {
  "kernelspec": {
   "display_name": "Python 3",
   "language": "python",
   "name": "python3"
  },
  "language_info": {
   "codemirror_mode": {
    "name": "ipython",
    "version": 3
   },
   "file_extension": ".py",
   "mimetype": "text/x-python",
   "name": "python",
   "nbconvert_exporter": "python",
   "pygments_lexer": "ipython3",
   "version": "3.7.5"
  }
 },
 "nbformat": 4,
 "nbformat_minor": 4
}
