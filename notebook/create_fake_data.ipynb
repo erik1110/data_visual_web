{
 "cells": [
  {
   "cell_type": "code",
   "execution_count": 2,
   "metadata": {},
   "outputs": [
    {
     "data": {
      "text/plain": [
       "'PSC 9168, Box 0653\\nAPO AP 41289'"
      ]
     },
     "execution_count": 2,
     "metadata": {},
     "output_type": "execute_result"
    }
   ],
   "source": [
    "from faker import Faker\n",
    "\n",
    "fake = Faker()\n",
    "\n",
    "fake.name()\n",
    "# Carla Parker\n",
    "\n",
    "fake.address()"
   ]
  },
  {
   "cell_type": "code",
   "execution_count": 3,
   "metadata": {},
   "outputs": [
    {
     "name": "stdout",
     "output_type": "stream",
     "text": [
      "朱哲瑋\n",
      "50411 斗六太平街2號之7\n",
      "--------\n",
      "魏怡安\n",
      "21198 基隆市中山巷8段859號之1\n",
      "--------\n",
      "翟淑華\n",
      "888 臺東縣文山路549號之4\n",
      "--------\n",
      "孫宗翰\n",
      "87872 新營縣光復路3號2樓\n",
      "--------\n",
      "駱惠如\n",
      "211 台東市明德巷836號之5\n",
      "--------\n"
     ]
    }
   ],
   "source": [
    "fake = Faker('zh_TW')\n",
    "\n",
    "for _ in range(5):\n",
    "    print(fake.name())\n",
    "    print(fake.address())\n",
    "    print('--------')\n"
   ]
  },
  {
   "cell_type": "code",
   "execution_count": 4,
   "metadata": {},
   "outputs": [],
   "source": [
    "import pandas as pd"
   ]
  },
  {
   "cell_type": "code",
   "execution_count": 5,
   "metadata": {},
   "outputs": [
    {
     "data": {
      "text/plain": [
       "{'username': 'fangqian',\n",
       " 'name': '朱美琪',\n",
       " 'sex': 'M',\n",
       " 'address': '59506 太平市大同路7號之9',\n",
       " 'mail': 'yanhan@yahoo.com',\n",
       " 'birthdate': datetime.date(1974, 6, 1)}"
      ]
     },
     "execution_count": 5,
     "metadata": {},
     "output_type": "execute_result"
    }
   ],
   "source": [
    "fake.simple_profile()"
   ]
  },
  {
   "cell_type": "code",
   "execution_count": 6,
   "metadata": {},
   "outputs": [],
   "source": [
    "df = pd.DataFrame()"
   ]
  },
  {
   "cell_type": "code",
   "execution_count": 7,
   "metadata": {},
   "outputs": [],
   "source": [
    "for i in range(1000):\n",
    "    fake_data = fake.simple_profile()\n",
    "    df.loc[i, 'user_id'] = fake.ssn()\n",
    "    df.loc[i, 'username'] = fake_data['username']\n",
    "    df.loc[i, 'name'] = fake_data['name']\n",
    "    df.loc[i, 'sex'] = fake_data['sex']\n",
    "    df.loc[i, 'address'] = fake_data['address']\n",
    "    df.loc[i, 'mail'] = fake_data['mail']\n",
    "    df.loc[i, 'birthdate'] = fake_data['birthdate']\n",
    "    df.loc[i, 'country'] = fake.country()\n",
    "    df.loc[i, 'job'] = fake.job()\n",
    "    df.loc[i, 'phone_number'] = fake.phone_number()\n",
    "    df.loc[i, 'date'] = fake.date()"
   ]
  },
  {
   "cell_type": "code",
   "execution_count": 8,
   "metadata": {},
   "outputs": [
    {
     "data": {
      "text/html": [
       "<div>\n",
       "<style scoped>\n",
       "    .dataframe tbody tr th:only-of-type {\n",
       "        vertical-align: middle;\n",
       "    }\n",
       "\n",
       "    .dataframe tbody tr th {\n",
       "        vertical-align: top;\n",
       "    }\n",
       "\n",
       "    .dataframe thead th {\n",
       "        text-align: right;\n",
       "    }\n",
       "</style>\n",
       "<table border=\"1\" class=\"dataframe\">\n",
       "  <thead>\n",
       "    <tr style=\"text-align: right;\">\n",
       "      <th></th>\n",
       "      <th>user_id</th>\n",
       "      <th>username</th>\n",
       "      <th>name</th>\n",
       "      <th>sex</th>\n",
       "      <th>address</th>\n",
       "      <th>mail</th>\n",
       "      <th>birthdate</th>\n",
       "      <th>country</th>\n",
       "      <th>job</th>\n",
       "      <th>phone_number</th>\n",
       "      <th>date</th>\n",
       "    </tr>\n",
       "  </thead>\n",
       "  <tbody>\n",
       "    <tr>\n",
       "      <th>0</th>\n",
       "      <td>L965479577</td>\n",
       "      <td>mli</td>\n",
       "      <td>顧宇軒</td>\n",
       "      <td>F</td>\n",
       "      <td>376 太保象山巷72號3樓</td>\n",
       "      <td>vduan@gmail.com</td>\n",
       "      <td>1912-04-29</td>\n",
       "      <td>巴拿馬</td>\n",
       "      <td>金融承銷員</td>\n",
       "      <td>(02) 35928789</td>\n",
       "      <td>2010-05-13</td>\n",
       "    </tr>\n",
       "    <tr>\n",
       "      <th>1</th>\n",
       "      <td>E915315081</td>\n",
       "      <td>uchen</td>\n",
       "      <td>劉郁婷</td>\n",
       "      <td>F</td>\n",
       "      <td>167 馬公國凱八德街5段8號9樓</td>\n",
       "      <td>dbai@hotmail.com</td>\n",
       "      <td>1964-08-16</td>\n",
       "      <td>尼日</td>\n",
       "      <td>半導體製程工程師</td>\n",
       "      <td>06-27543516</td>\n",
       "      <td>2007-01-25</td>\n",
       "    </tr>\n",
       "    <tr>\n",
       "      <th>2</th>\n",
       "      <td>T241314125</td>\n",
       "      <td>mengqiang</td>\n",
       "      <td>張冠霖</td>\n",
       "      <td>M</td>\n",
       "      <td>26583 高雄民生巷3段86號2樓</td>\n",
       "      <td>hqiao@hotmail.com</td>\n",
       "      <td>1973-09-13</td>\n",
       "      <td>巴哈馬</td>\n",
       "      <td>律師</td>\n",
       "      <td>(05) 53108105</td>\n",
       "      <td>2017-07-31</td>\n",
       "    </tr>\n",
       "    <tr>\n",
       "      <th>3</th>\n",
       "      <td>J489809738</td>\n",
       "      <td>xiafang</td>\n",
       "      <td>馬婷婷</td>\n",
       "      <td>M</td>\n",
       "      <td>169 關山長春路70號之6</td>\n",
       "      <td>li02@hotmail.com</td>\n",
       "      <td>1964-04-22</td>\n",
       "      <td>希臘</td>\n",
       "      <td>手工包裝工</td>\n",
       "      <td>0996-449515</td>\n",
       "      <td>1977-03-14</td>\n",
       "    </tr>\n",
       "    <tr>\n",
       "      <th>4</th>\n",
       "      <td>K785123662</td>\n",
       "      <td>guiying09</td>\n",
       "      <td>張佩君</td>\n",
       "      <td>F</td>\n",
       "      <td>36105 桃園市自由巷58號2樓</td>\n",
       "      <td>sye@hotmail.com</td>\n",
       "      <td>1973-04-08</td>\n",
       "      <td>捷克</td>\n",
       "      <td>才藝類老師</td>\n",
       "      <td>09 3033924</td>\n",
       "      <td>2000-08-09</td>\n",
       "    </tr>\n",
       "    <tr>\n",
       "      <th>5</th>\n",
       "      <td>D469987841</td>\n",
       "      <td>min76</td>\n",
       "      <td>胡雅慧</td>\n",
       "      <td>F</td>\n",
       "      <td>921 桃園成功路8號8樓</td>\n",
       "      <td>tao78@hotmail.com</td>\n",
       "      <td>1972-10-06</td>\n",
       "      <td>韓國</td>\n",
       "      <td>焊接及切割技術員</td>\n",
       "      <td>045 66722836</td>\n",
       "      <td>2017-12-10</td>\n",
       "    </tr>\n",
       "    <tr>\n",
       "      <th>6</th>\n",
       "      <td>X086390910</td>\n",
       "      <td>xia40</td>\n",
       "      <td>顏家瑜</td>\n",
       "      <td>F</td>\n",
       "      <td>285 楊梅永寧巷1號1樓</td>\n",
       "      <td>xiuying18@hotmail.com</td>\n",
       "      <td>1971-10-23</td>\n",
       "      <td>幾內亞</td>\n",
       "      <td>核保／保險內勤人員</td>\n",
       "      <td>009 67012224</td>\n",
       "      <td>2003-07-30</td>\n",
       "    </tr>\n",
       "    <tr>\n",
       "      <th>7</th>\n",
       "      <td>G573484459</td>\n",
       "      <td>dzou</td>\n",
       "      <td>王婉婷</td>\n",
       "      <td>F</td>\n",
       "      <td>456 豐原市雙連巷86號6樓</td>\n",
       "      <td>jiangna@gmail.com</td>\n",
       "      <td>1915-05-12</td>\n",
       "      <td>香港</td>\n",
       "      <td>倉管</td>\n",
       "      <td>05-6477986</td>\n",
       "      <td>1989-09-05</td>\n",
       "    </tr>\n",
       "    <tr>\n",
       "      <th>8</th>\n",
       "      <td>I504377166</td>\n",
       "      <td>jing02</td>\n",
       "      <td>李雅萍</td>\n",
       "      <td>M</td>\n",
       "      <td>604 高雄市迴龍巷2號之6</td>\n",
       "      <td>owei@hotmail.com</td>\n",
       "      <td>1989-11-01</td>\n",
       "      <td>玻利維亞</td>\n",
       "      <td>治療師</td>\n",
       "      <td>0908400885</td>\n",
       "      <td>1984-01-07</td>\n",
       "    </tr>\n",
       "    <tr>\n",
       "      <th>9</th>\n",
       "      <td>F661388082</td>\n",
       "      <td>li76</td>\n",
       "      <td>莫傑克</td>\n",
       "      <td>M</td>\n",
       "      <td>490 北斗象山巷7段77號之7</td>\n",
       "      <td>guiyinghou@gmail.com</td>\n",
       "      <td>1969-02-06</td>\n",
       "      <td>直布羅陀</td>\n",
       "      <td>行政人員</td>\n",
       "      <td>03-4937687</td>\n",
       "      <td>1988-10-18</td>\n",
       "    </tr>\n",
       "  </tbody>\n",
       "</table>\n",
       "</div>"
      ],
      "text/plain": [
       "      user_id   username name sex             address                   mail  \\\n",
       "0  L965479577        mli  顧宇軒   F      376 太保象山巷72號3樓        vduan@gmail.com   \n",
       "1  E915315081      uchen  劉郁婷   F   167 馬公國凱八德街5段8號9樓       dbai@hotmail.com   \n",
       "2  T241314125  mengqiang  張冠霖   M  26583 高雄民生巷3段86號2樓      hqiao@hotmail.com   \n",
       "3  J489809738    xiafang  馬婷婷   M      169 關山長春路70號之6       li02@hotmail.com   \n",
       "4  K785123662  guiying09  張佩君   F   36105 桃園市自由巷58號2樓        sye@hotmail.com   \n",
       "5  D469987841      min76  胡雅慧   F       921 桃園成功路8號8樓      tao78@hotmail.com   \n",
       "6  X086390910      xia40  顏家瑜   F       285 楊梅永寧巷1號1樓  xiuying18@hotmail.com   \n",
       "7  G573484459       dzou  王婉婷   F     456 豐原市雙連巷86號6樓      jiangna@gmail.com   \n",
       "8  I504377166     jing02  李雅萍   M      604 高雄市迴龍巷2號之6       owei@hotmail.com   \n",
       "9  F661388082       li76  莫傑克   M    490 北斗象山巷7段77號之7   guiyinghou@gmail.com   \n",
       "\n",
       "    birthdate country        job   phone_number        date  \n",
       "0  1912-04-29     巴拿馬      金融承銷員  (02) 35928789  2010-05-13  \n",
       "1  1964-08-16      尼日   半導體製程工程師    06-27543516  2007-01-25  \n",
       "2  1973-09-13     巴哈馬         律師  (05) 53108105  2017-07-31  \n",
       "3  1964-04-22      希臘      手工包裝工    0996-449515  1977-03-14  \n",
       "4  1973-04-08      捷克      才藝類老師     09 3033924  2000-08-09  \n",
       "5  1972-10-06      韓國   焊接及切割技術員   045 66722836  2017-12-10  \n",
       "6  1971-10-23     幾內亞  核保／保險內勤人員   009 67012224  2003-07-30  \n",
       "7  1915-05-12      香港         倉管     05-6477986  1989-09-05  \n",
       "8  1989-11-01    玻利維亞        治療師     0908400885  1984-01-07  \n",
       "9  1969-02-06    直布羅陀       行政人員     03-4937687  1988-10-18  "
      ]
     },
     "execution_count": 8,
     "metadata": {},
     "output_type": "execute_result"
    }
   ],
   "source": [
    "df.head(10)"
   ]
  },
  {
   "cell_type": "code",
   "execution_count": 10,
   "metadata": {},
   "outputs": [],
   "source": [
    "df.to_csv('./fake_data.csv', index=False)"
   ]
  },
  {
   "cell_type": "code",
   "execution_count": null,
   "metadata": {},
   "outputs": [],
   "source": []
  },
  {
   "cell_type": "code",
   "execution_count": null,
   "metadata": {},
   "outputs": [],
   "source": []
  },
  {
   "cell_type": "code",
   "execution_count": null,
   "metadata": {},
   "outputs": [],
   "source": []
  },
  {
   "cell_type": "code",
   "execution_count": null,
   "metadata": {},
   "outputs": [],
   "source": []
  },
  {
   "cell_type": "code",
   "execution_count": null,
   "metadata": {},
   "outputs": [],
   "source": []
  },
  {
   "cell_type": "code",
   "execution_count": null,
   "metadata": {},
   "outputs": [],
   "source": []
  },
  {
   "cell_type": "code",
   "execution_count": null,
   "metadata": {},
   "outputs": [],
   "source": []
  }
 ],
 "metadata": {
  "kernelspec": {
   "display_name": "Python 3",
   "language": "python",
   "name": "python3"
  },
  "language_info": {
   "codemirror_mode": {
    "name": "ipython",
    "version": 3
   },
   "file_extension": ".py",
   "mimetype": "text/x-python",
   "name": "python",
   "nbconvert_exporter": "python",
   "pygments_lexer": "ipython3",
   "version": "3.7.5"
  }
 },
 "nbformat": 4,
 "nbformat_minor": 4
}
